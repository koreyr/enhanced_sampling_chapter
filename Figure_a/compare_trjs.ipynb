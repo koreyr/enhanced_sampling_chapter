{
 "cells": [
  {
   "cell_type": "code",
   "execution_count": 1,
   "metadata": {},
   "outputs": [],
   "source": [
    "import numpy as np\n",
    "import mdtraj as md"
   ]
  },
  {
   "cell_type": "code",
   "execution_count": 13,
   "metadata": {},
   "outputs": [],
   "source": [
    "def get_min_diff_frame(trj, ref):\n",
    "    rmsd = md.rmsd(trj,ref)\n",
    "    idx = np.where(rmsd==rmsd.min())[0]\n",
    "    return idx[0], rmsd[idx[0]]"
   ]
  },
  {
   "cell_type": "code",
   "execution_count": 19,
   "metadata": {},
   "outputs": [],
   "source": [
    "trj_dir = '/Users/koreyreid/work/kern_collab/CypA/closed/'\n",
    "trj_top = 'top.pdb'\n",
    "trj_crd = 'continuous_sim.xtc'\n",
    "compare_dir = '/Users/koreyreid/work/kern_collab/CypA/closed/'\n",
    "compare_top = 'top.pdb'\n",
    "atom_select = md.load(trj_dir+'/'+trj_top).topology.select('protein')\n",
    "trj = md.load(trj_dir+'/'+trj_crd, top=trj_dir+'/'+trj_top, atom_indices=atom_select)\n",
    "atom_select = md.load(compare_dir+'/'+compare_top).topology.select('protein')\n",
    "compare = md.load(compare_dir+'/'+compare_top, atom_indices=atom_select)"
   ]
  },
  {
   "cell_type": "code",
   "execution_count": 41,
   "metadata": {},
   "outputs": [
    {
     "name": "stdout",
     "output_type": "stream",
     "text": [
      "the index is 2685, the timestamp is 13.425 ns, and the rmsd is 0.3252\n"
     ]
    }
   ],
   "source": [
    "idx, rmsd = get_min_diff_frame(trj,compare)\n",
    "print(f\"the index is {idx}, the timestamp is {trj[idx].time[0]/1000.} ns, and the rmsd is {rmsd:0.4f}\")\n",
    "md.load_frame(trj_dir+'/'+trj_crd, top=trj_dir+'/'+trj_top, index=idx).save_gro('similar.gro')\n",
    "md.load(compare_dir+'/'+compare_top).save_gro('compare.gro')"
   ]
  },
  {
   "cell_type": "code",
   "execution_count": null,
   "metadata": {},
   "outputs": [],
   "source": []
  }
 ],
 "metadata": {
  "kernelspec": {
   "display_name": "python3",
   "language": "python",
   "name": "python3"
  },
  "language_info": {
   "codemirror_mode": {
    "name": "ipython",
    "version": 3
   },
   "file_extension": ".py",
   "mimetype": "text/x-python",
   "name": "python",
   "nbconvert_exporter": "python",
   "pygments_lexer": "ipython3",
   "version": "3.11.9"
  }
 },
 "nbformat": 4,
 "nbformat_minor": 2
}
