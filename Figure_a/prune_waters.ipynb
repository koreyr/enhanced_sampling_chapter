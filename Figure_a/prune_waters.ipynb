{
 "cells": [
  {
   "cell_type": "code",
   "execution_count": 3,
   "metadata": {},
   "outputs": [],
   "source": [
    "import numpy as np\n",
    "import matplotlib.pyplot as plt\n",
    "import subprocess\n",
    "import mdtraj as md\n",
    "# import nglview as ngl"
   ]
  },
  {
   "cell_type": "code",
   "execution_count": 4,
   "metadata": {},
   "outputs": [],
   "source": [
    "c_in = md.load('./compare.gro')\n",
    "s_in = md.load('./similar.gro')"
   ]
  },
  {
   "cell_type": "code",
   "execution_count": 88,
   "metadata": {},
   "outputs": [],
   "source": [
    "c_prot = c_in.topology.select(\"resid 0 to 19\")\n",
    "s_prot = s_in.topology.select(\"resid 0 to 19\")\n",
    "c_wat = c_in.topology.select(\"waters and name O\")\n",
    "s_wat = s_in.topology.select(\"waters and name O\")"
   ]
  },
  {
   "cell_type": "code",
   "execution_count": 117,
   "metadata": {},
   "outputs": [],
   "source": [
    "def prune(trj, d=0.5):\n",
    "    prot = trj.topology.select(\"resid 0 to 19\")\n",
    "    wat = trj.topology.select(\"waters and name O\")\n",
    "    pairs = np.stack([np.array([prot]*len(wat)).T.flatten(),np.array([wat]*len(prot)).flatten()]).T\n",
    "    dist = md.compute_distances(trj,pairs)[0]\n",
    "    idx = np.where(dist <= d)[0]\n",
    "    wat_atoms = pairs[idx,1]\n",
    "    wat_res = [trj.topology.atom(i).residue.index for i in wat_atoms]\n",
    "    atom_sel = np.unique(list(prot) + [j.index  for i in wat_res for j in trj.topology.residue(i).atoms  ])\n",
    "    return trj.atom_slice(atom_sel)"
   ]
  },
  {
   "cell_type": "code",
   "execution_count": 121,
   "metadata": {},
   "outputs": [],
   "source": [
    "prune(c_in, 0.4).save('compare_prune.pdb')\n",
    "prune(s_in, 0.4).save('similar_prune.pdb')"
   ]
  },
  {
   "cell_type": "code",
   "execution_count": 89,
   "metadata": {},
   "outputs": [],
   "source": [
    "pairs = np.stack([np.array([c_prot]*len(c_wat)).T.flatten(),np.array([c_wat]*len(c_prot)).flatten()]).T\n",
    "dist = md.compute_distances(c_in,pairs)[0]\n",
    "idx = np.where(dist <= 0.5)[0]\n",
    "wat_atoms = pairs[idx,1]"
   ]
  },
  {
   "cell_type": "code",
   "execution_count": 90,
   "metadata": {},
   "outputs": [],
   "source": [
    "c_wat_res = [c_in.topology.atom(i).residue.index for i in wat_atoms]"
   ]
  },
  {
   "cell_type": "code",
   "execution_count": 114,
   "metadata": {},
   "outputs": [],
   "source": [
    "c_atom_sel = np.unique(list(c_prot) + [j.index  for i in c_wat_res for j in c_in.topology.residue(i).atoms  ])"
   ]
  },
  {
   "cell_type": "code",
   "execution_count": 116,
   "metadata": {},
   "outputs": [],
   "source": [
    "c_in.atom_slice(c_atom_sel).save('compare_prune.pdb')"
   ]
  },
  {
   "cell_type": "code",
   "execution_count": 19,
   "metadata": {},
   "outputs": [
    {
     "data": {
      "text/plain": [
       "array([[   14,    14,    14, ...,   282,   282,   282],\n",
       "       [  332,   333,   334, ..., 35305, 35306, 35307]])"
      ]
     },
     "execution_count": 19,
     "metadata": {},
     "output_type": "execute_result"
    }
   ],
   "source": [
    "np.stack([np.array([c_prot]*len(c_wat)).T.flatten(),np.array([c_wat]*len(c_prot)).flatten()])"
   ]
  },
  {
   "cell_type": "code",
   "execution_count": 17,
   "metadata": {},
   "outputs": [
    {
     "data": {
      "text/plain": [
       "(34976, 269)"
      ]
     },
     "execution_count": 17,
     "metadata": {},
     "output_type": "execute_result"
    }
   ],
   "source": [
    "np.array([c_prot]*len(c_wat)).shape"
   ]
  },
  {
   "cell_type": "code",
   "execution_count": 16,
   "metadata": {},
   "outputs": [
    {
     "data": {
      "text/plain": [
       "(269, 34976)"
      ]
     },
     "execution_count": 16,
     "metadata": {},
     "output_type": "execute_result"
    }
   ],
   "source": [
    "np.array([c_wat]*len(c_prot)).shape"
   ]
  },
  {
   "cell_type": "code",
   "execution_count": null,
   "metadata": {},
   "outputs": [],
   "source": []
  }
 ],
 "metadata": {
  "kernelspec": {
   "display_name": "python3",
   "language": "python",
   "name": "python3"
  },
  "language_info": {
   "codemirror_mode": {
    "name": "ipython",
    "version": 3
   },
   "file_extension": ".py",
   "mimetype": "text/x-python",
   "name": "python",
   "nbconvert_exporter": "python",
   "pygments_lexer": "ipython3",
   "version": "3.11.9"
  }
 },
 "nbformat": 4,
 "nbformat_minor": 2
}
